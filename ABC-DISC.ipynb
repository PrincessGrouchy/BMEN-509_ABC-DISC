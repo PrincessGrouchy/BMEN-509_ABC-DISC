{
 "cells": [
  {
   "cell_type": "markdown",
   "metadata": {},
   "source": [
    "# BMEN 509 Project ABC-DISC"
   ]
  },
  {
   "cell_type": "markdown",
   "metadata": {},
   "source": [
    "Details/Information\n"
   ]
  },
  {
   "cell_type": "markdown",
   "metadata": {},
   "source": [
    "https://www.geeksforgeeks.org/python-blood-cell-identification-using-image-processing/"
   ]
  },
  {
   "cell_type": "code",
   "execution_count": 1,
   "metadata": {},
   "outputs": [],
   "source": [
    "# Library Imports\n",
    "import os\n",
    "import numpy as np\n",
    "import cv2\n",
    "import matplotlib.pyplot as plt\n",
    "\n",
    "from skimage import io\n",
    "from skimage import color\n",
    "from scipy import signal, ndimage\n",
    "\n",
    "# Setup Jupyter notebook specifics\n",
    "%matplotlib inline\n",
    "\n",
    "# Numpy printing help\n",
    "np.set_printoptions(precision=2)"
   ]
  },
  {
   "cell_type": "code",
   "execution_count": 2,
   "metadata": {},
   "outputs": [],
   "source": [
    "# Constants\n",
    "data_directory = os.path.join('.', 'Data')\n",
    "file_names = [\n",
    "    'sample.png'\n",
    "]\n",
    "\n",
    "#Note this is image-4.png from the Kaggle data set available here: https://www.kaggle.com/draaslan/blood-cell-detection-dataset"
   ]
  },
  {
   "cell_type": "code",
   "execution_count": 3,
   "metadata": {},
   "outputs": [
    {
     "name": "stdout",
     "output_type": "stream",
     "text": [
      "Found all image files!\n"
     ]
    }
   ],
   "source": [
    "# Verify we can find our files\n",
    "for file_name in file_names:\n",
    "    name = os.path.join(data_directory, file_name)\n",
    "    if not os.path.isfile(name):\n",
    "        os.sys.exit('Cannot find file {}. Please make sure you have downloaded the data'.format(name))\n",
    "print('Found all image files!')"
   ]
  },
  {
   "cell_type": "markdown",
   "metadata": {},
   "source": [
    "\n",
    "# Image Enhancement"
   ]
  },
  {
   "cell_type": "code",
   "execution_count": 4,
   "metadata": {},
   "outputs": [],
   "source": [
    "#Read original image\n",
    "filename = os.path.join(data_directory, 'sample.png') #Read file and open image\n",
    "#filename = os.path.join(data_directory, 'c1.png')\n",
    "image = cv2.imread(filename)"
   ]
  },
  {
   "cell_type": "code",
   "execution_count": 5,
   "metadata": {},
   "outputs": [
    {
     "data": {
      "text/plain": [
       "True"
      ]
     },
     "execution_count": 5,
     "metadata": {},
     "output_type": "execute_result"
    }
   ],
   "source": [
    "#Convert to grayscale image\n",
    "gray = cv2.cvtColor(image, cv2.COLOR_BGR2GRAY) \n",
    "cv2.imwrite('gray.png', gray) "
   ]
  },
  {
   "cell_type": "code",
   "execution_count": 6,
   "metadata": {},
   "outputs": [
    {
     "data": {
      "text/plain": [
       "True"
      ]
     },
     "execution_count": 6,
     "metadata": {},
     "output_type": "execute_result"
    }
   ],
   "source": [
    "#Apply median filter for smoothing\n",
    "blurM = cv2.medianBlur(gray, 5) \n",
    "cv2.imwrite('blurM.png', blurM) "
   ]
  },
  {
   "cell_type": "code",
   "execution_count": 7,
   "metadata": {},
   "outputs": [
    {
     "data": {
      "text/plain": [
       "True"
      ]
     },
     "execution_count": 7,
     "metadata": {},
     "output_type": "execute_result"
    }
   ],
   "source": [
    "#Apply Gaussian filter for smoothing\n",
    "blurG = cv2.GaussianBlur(gray, (9, 9), 0) \n",
    "cv2.imwrite('blurG.png', blurG) "
   ]
  },
  {
   "cell_type": "code",
   "execution_count": 8,
   "metadata": {},
   "outputs": [
    {
     "data": {
      "text/plain": [
       "True"
      ]
     },
     "execution_count": 8,
     "metadata": {},
     "output_type": "execute_result"
    }
   ],
   "source": [
    "#Histogram equalization\n",
    "histoNorm = cv2.equalizeHist(gray) \n",
    "cv2.imwrite('histoNorm.png', histoNorm) "
   ]
  },
  {
   "cell_type": "code",
   "execution_count": 9,
   "metadata": {},
   "outputs": [
    {
     "data": {
      "text/plain": [
       "True"
      ]
     },
     "execution_count": 9,
     "metadata": {},
     "output_type": "execute_result"
    }
   ],
   "source": [
    "#Contrast Limited Adaptive Histogram Equalization (CLAHE)\n",
    "clahe = cv2.createCLAHE(clipLimit = 2.0, tileGridSize=(8, 8)) \n",
    "claheNorm = clahe.apply(gray) \n",
    "cv2.imwrite('claheNorm.png', claheNorm) "
   ]
  },
  {
   "cell_type": "code",
   "execution_count": 10,
   "metadata": {},
   "outputs": [],
   "source": [
    "#Constrast stretching\n",
    "#A function to map each intensity level to an output intensity level\n",
    "def pixelVal(pix, r1, s1, r2, s2): \n",
    "    if (0 <= pix and pix <= r1): \n",
    "        return (s1 / r1) * pix \n",
    "    elif (r1 < pix and pix <= r2): \n",
    "        return ((s2 - s1) / (r2 - r1)) * (pix - r1) + s1 \n",
    "    else: \n",
    "        return ((255 - s2) / (255 - r2)) * (pix - r2) + s2 \n",
    "  \n",
    "    # Define parameters\n",
    "  \n",
    "  \n",
    "# r1 = 70\n",
    "# s1 = 0\n",
    "# r2 = 200\n",
    "# s2 = 255\n",
    "\n",
    "# r1 = 75\n",
    "# s1 = 0\n",
    "# r2 = 190\n",
    "# s2 = 255\n",
    "\n"
   ]
  },
  {
   "cell_type": "code",
   "execution_count": 11,
   "metadata": {},
   "outputs": [],
   "source": [
    "#Vectorize the function to apply it to each value in the Numpy array\n",
    "pixelVal_vec = np.vectorize(pixelVal) "
   ]
  },
  {
   "cell_type": "code",
   "execution_count": 12,
   "metadata": {},
   "outputs": [],
   "source": [
    "#Apply contrast stretching \n",
    "# contrast_stretched = pixelVal_vec(gray, r1, s1, r2, s2) \n",
    "# contrast_stretched_blurM = pixelVal_vec(blurM, r1, s1, r2, s2) \n",
    "\n",
    "# cv2.imwrite('contrast_stretch.png', contrast_stretched) \n",
    "# cv2.imwrite('contrast_stretch_blurM.png',  \n",
    "#             contrast_stretched_blurM) "
   ]
  },
  {
   "cell_type": "code",
   "execution_count": 13,
   "metadata": {},
   "outputs": [],
   "source": [
    "#Edge detection using canny edge detector \n",
    "# edge = cv2.Canny(gray, 100, 200) \n",
    "# cv2.imwrite('edge.png', edge) \n",
    "  \n",
    "# edgeG = cv2.Canny(blurG, 100, 200) \n",
    "# cv2.imwrite('edgeG.png', edgeG) \n",
    "  \n",
    "# edgeM = cv2.Canny(blurM, 100, 200) \n",
    "# cv2.imwrite('edgeM.png', edgeM) "
   ]
  },
  {
   "cell_type": "code",
   "execution_count": 14,
   "metadata": {},
   "outputs": [
    {
     "data": {
      "image/png": "[encoded data removed]",
      "text/plain": [
       "<Figure size 432x288 with 1 Axes>"
      ]
     },
     "metadata": {
      "needs_background": "light"
     },
     "output_type": "display_data"
    },
    {
     "data": {
      "text/plain": [
       "True"
      ]
     },
     "execution_count": 14,
     "metadata": {},
     "output_type": "execute_result"
    }
   ],
   "source": [
    "#Before, we saw the effect of applying each transformation to the original grayscale image\n",
    "#Now let's try doing all the operations in sequence to obtain an enhanced image\n",
    "\n",
    "#Convert to grayscale image\n",
    "gray = cv2.cvtColor(image, cv2.COLOR_BGR2GRAY) \n",
    "#cv2.imwrite('gray.png', gray) \n",
    "\n",
    "\n",
    "#Plot the histogram of the image with 256 bins\n",
    "plt.hist(gray.ravel(), bins=256); plt.xlabel('Intensity'); plt.ylabel('Count')\n",
    "plt.title('Histogram of Grayscale Blood Cell Image with 256 Bins')\n",
    "plt.show()\n",
    "\n",
    "#Apply median filter for smoothing\n",
    "blurM = cv2.medianBlur(gray, 5) \n",
    "#cv2.imwrite('blurM.png', blurM) \n",
    "\n",
    "#Apply Gaussian filter for smoothing\n",
    "blurG = cv2.GaussianBlur(blurM, (9, 9), 0) \n",
    "#cv2.imwrite('blurG.png', blurG) \n",
    "\n",
    "#Histogram equalization\n",
    "histoNorm = cv2.equalizeHist(blurG) \n",
    "#cv2.imwrite('histoNorm.png', histoNorm) \n",
    "\n",
    "#Contrast Limited Adaptive Histogram Equalization (CLAHE)\n",
    "clahe = cv2.createCLAHE(clipLimit = 2.0, tileGridSize=(8, 8)) \n",
    "claheNorm = clahe.apply(histoNorm) \n",
    "#cv2.imwrite('claheNorm.png', claheNorm) \n",
    "\n",
    "#Constrast stretching function has already been defined and vectorized\n",
    "\n",
    "#Apply contrast stretching\n",
    "# contrast_stretched = pixelVal_vec(claheNorm, r1, s1, r2, s2)\n",
    "# cv2.imwrite('cell.png', contrast_stretched) \n",
    "contrast_stretched = pixelVal_vec(claheNorm, 120, 0, 250, 255)\n",
    "cv2.imwrite('cell.png', contrast_stretched) \n",
    "contrast_stretched1 = pixelVal_vec(claheNorm, 120, 0, 140, 255)\n",
    "cv2.imwrite('cell1.png', contrast_stretched1) \n",
    "contrast_stretched2 = pixelVal_vec(claheNorm, 200, 0, 250, 255)\n",
    "cv2.imwrite('cell2.png', contrast_stretched2) \n",
    "\n",
    "\n",
    "\n",
    "\n",
    "\n"
   ]
  },
  {
   "cell_type": "markdown",
   "metadata": {},
   "source": [
    "# Image Segmentation and Feature Extraction"
   ]
  },
  {
   "cell_type": "code",
   "execution_count": 15,
   "metadata": {},
   "outputs": [],
   "source": [
    "#Read enhanced image as grayscale, hence the flag set equal to 0\n",
    "img = cv2.imread('cell.png', 0)"
   ]
  },
  {
   "cell_type": "code",
   "execution_count": 16,
   "metadata": {},
   "outputs": [],
   "source": [
    "#Morphological operations\n",
    "kernel = np.ones((5, 5), np.uint8) \n",
    "dilation = cv2.dilate(img, kernel, iterations = 1) \n",
    "closing = cv2.morphologyEx(img, cv2.MORPH_CLOSE, kernel) "
   ]
  },
  {
   "cell_type": "code",
   "execution_count": 17,
   "metadata": {},
   "outputs": [],
   "source": [
    "#Adaptive thresholding on mean and Gaussian filters\n",
    "th2 = cv2.adaptiveThreshold(img, 255, cv2.ADAPTIVE_THRESH_MEAN_C,\\\n",
    "                            cv2.THRESH_BINARY, 11, 2) \n",
    "th3 = cv2.adaptiveThreshold(img, 255, cv2.ADAPTIVE_THRESH_GAUSSIAN_C,\\\n",
    "                            cv2.THRESH_BINARY, 11, 2) "
   ]
  },
  {
   "cell_type": "code",
   "execution_count": 18,
   "metadata": {},
   "outputs": [],
   "source": [
    "#Otsu's thresholding\n",
    "ret4, th4 = cv2.threshold(img, 0, 255, cv2.THRESH_BINARY + cv2.THRESH_OTSU)"
   ]
  },
  {
   "cell_type": "code",
   "execution_count": 19,
   "metadata": {},
   "outputs": [],
   "source": [
    "# Initialize the list \n",
    "Cell_count, x_count, y_count = [], [], [] "
   ]
  },
  {
   "cell_type": "code",
   "execution_count": 20,
   "metadata": {},
   "outputs": [],
   "source": [
    "#Read original image to display the circle and centre detection   \n",
    "display = cv2.imread(filename) "
   ]
  },
  {
   "cell_type": "code",
   "execution_count": 21,
   "metadata": {},
   "outputs": [],
   "source": [
    "#Hough transform with modified circular parameters \n",
    "circles = cv2.HoughCircles(img, cv2.HOUGH_GRADIENT, 1.2, 20,  \n",
    "                           param1 = 50, param2 = 28, minRadius = 1, maxRadius = 20) "
   ]
  },
  {
   "cell_type": "code",
   "execution_count": 22,
   "metadata": {},
   "outputs": [],
   "source": [
    "#Hough transform with modified circular parameters \n",
    "# circles = cv2.HoughCircles(img, cv2.HOUGH_GRADIENT, 1.2, 20,  \n",
    "#                            param1 = 0, param2 = 28, minRadius = 1, maxRadius = 10) "
   ]
  },
  {
   "cell_type": "code",
   "execution_count": 23,
   "metadata": {},
   "outputs": [
    {
     "name": "stdout",
     "output_type": "stream",
     "text": [
      "1\n"
     ]
    }
   ],
   "source": [
    "print(len(circles))"
   ]
  },
  {
   "cell_type": "code",
   "execution_count": 24,
   "metadata": {},
   "outputs": [
    {
     "data": {
      "text/plain": [
       "True"
      ]
     },
     "execution_count": 24,
     "metadata": {},
     "output_type": "execute_result"
    }
   ],
   "source": [
    "#Circle detection and labelling using Hough transformation\n",
    "if circles is not None: \n",
    "        # convert the (x, y) coordinates and radius of the circles to integers \n",
    "        #circles = np.round(circles[0, :]).astype(\"int\") \n",
    "        \n",
    "        circles = np.uint16(np.around(circles))\n",
    "        \n",
    "  \n",
    "        # loop over the (x, y) coordinates and radius of the circles \n",
    "        #for (x, y, r) in circles[0,:]: \n",
    "        for i in circles[0,:]:\n",
    "                x = i[0];\n",
    "                y = i[1];\n",
    "                r = i[2];\n",
    "                cv2.circle(display, (x, y), r, (0, 255, 0), 2) \n",
    "                cv2.rectangle(display, (x - 2, y - 2),  \n",
    "                              (x + 2, y + 2), (0, 128, 255), -1) \n",
    "                Cell_count.append(r) \n",
    "                x_count.append(x) \n",
    "                y_count.append(y) \n",
    "        # show the output image \n",
    "#         cv2.imshow(\"gray\", display) \n",
    "#         cv2.waitKey(0)\n",
    "#         cv2.destroyAllWindows()\n",
    "#Imshow doesn't work for some reason so just save image to file instead\n",
    "cv2.imwrite('result.png', display) "
   ]
  },
  {
   "cell_type": "code",
   "execution_count": 25,
   "metadata": {},
   "outputs": [
    {
     "name": "stdout",
     "output_type": "stream",
     "text": [
      "4\n"
     ]
    }
   ],
   "source": [
    "#Display the count of white blood cells  \n",
    "print(len(Cell_count)) "
   ]
  },
  {
   "cell_type": "code",
   "execution_count": 26,
   "metadata": {},
   "outputs": [
    {
     "name": "stdout",
     "output_type": "stream",
     "text": [
      "[19, 18, 18, 16]\n"
     ]
    }
   ],
   "source": [
    "# Total number of radii\n",
    "print(Cell_count) "
   ]
  },
  {
   "cell_type": "code",
   "execution_count": 27,
   "metadata": {},
   "outputs": [
    {
     "name": "stdout",
     "output_type": "stream",
     "text": [
      "[79, 105, 229, 163]\n"
     ]
    }
   ],
   "source": [
    "# X co-ordinate of circle \n",
    "print(x_count)"
   ]
  },
  {
   "cell_type": "code",
   "execution_count": 28,
   "metadata": {},
   "outputs": [
    {
     "name": "stdout",
     "output_type": "stream",
     "text": [
      "[169, 193, 115, 57]\n"
     ]
    }
   ],
   "source": [
    "# Y co-ordinate of circle \n",
    "print(y_count)  "
   ]
  },
  {
   "cell_type": "code",
   "execution_count": 29,
   "metadata": {},
   "outputs": [],
   "source": [
    "# #Circle detection and labelling using Hough transformation\n",
    "# if circles is not None: \n",
    "#         # convert the (x, y) coordinates and radius of the circles to integers \n",
    "#         circles = np.round(circles[0, :]).astype(\"int\") \n",
    "  \n",
    "#         # loop over the (x, y) coordinates and radius of the circles \n",
    "#         for (x, y, r) in circles: \n",
    "  \n",
    "#                 cv2.circle(display, (x, y), r, (0, 255, 0), 2) \n",
    "#                 cv2.rectangle(display, (x - 2, y - 2),  \n",
    "#                               (x + 2, y + 2), (0, 128, 255), -1) \n",
    "#                 Cell_count.append(r) \n",
    "#                 x_count.append(x) \n",
    "#                 y_count.append(y) \n",
    "#         # show the output image \n",
    "#         cv2.imshow(\"gray\", display) \n",
    "#         cv2.waitKey(0)\n",
    "#         cv2.destroyAllWindows()\n"
   ]
  },
  {
   "cell_type": "code",
   "execution_count": 30,
   "metadata": {},
   "outputs": [],
   "source": [
    "#Parameters likely need to be changed for this dataset\n",
    "#Read papers and CV2 documentation to better understand what's going on\n",
    "#Check out OpenCV tutorials\n",
    "#Google search: blood cell intensity threshold\n",
    "\n",
    "\n",
    "# filename = os.path.join(data_directory, 'sample.png') #Read file and open image\n",
    "# img_rgb = io.imread(filename) #Colour image\n",
    "# img_gray = color.rgb2gray(img_rgb) #Grayscale image\n",
    "\n",
    "# plt.figure(figsize = (16,8))\n",
    "# plt.suptitle('Sample Blood Cell Image Taken Under a Microscope')\n",
    "\n",
    "# plt.subplot(121)\n",
    "# plt.imshow(img_rgb)\n",
    "# plt.title('Colour')\n",
    "# plt.xlabel('X')\n",
    "# plt.ylabel('Y')\n",
    "\n",
    "# plt.subplot(122)\n",
    "# plt.imshow(img_gray, cmap='gray', vmin=0, vmax=1)\n",
    "# plt.title('Grayscale')\n",
    "# plt.xlabel('X')\n",
    "# plt.ylabel('Y')\n",
    "\n",
    "# plt.show()"
   ]
  },
  {
   "cell_type": "code",
   "execution_count": 31,
   "metadata": {},
   "outputs": [],
   "source": [
    "#Need to double-check whether we actually need to convert to grayscale.\n",
    "#Note there are many different conversion algorithms that apply different weightings.\n",
    "\n",
    "#Useful links:\n",
    "#https://en.wikipedia.org/wiki/Grayscale#Colorimetric_(perceptual_luminance-preserving)_conversion_to_grayscale\n",
    "#https://stackoverflow.com/questions/3823752/display-image-as-grayscale-using-matplotlib\n",
    "#https://stackoverflow.com/questions/12201577/how-can-i-convert-an-rgb-image-into-grayscale-in-python"
   ]
  }
 ],
 "metadata": {
  "kernelspec": {
   "display_name": "Python 3",
   "language": "python",
   "name": "python3"
  },
  "language_info": {
   "codemirror_mode": {
    "name": "ipython",
    "version": 3
   },
   "file_extension": ".py",
   "mimetype": "text/x-python",
   "name": "python",
   "nbconvert_exporter": "python",
   "pygments_lexer": "ipython3",
   "version": "3.6.8"
  }
 },
 "nbformat": 4,
 "nbformat_minor": 2
}
