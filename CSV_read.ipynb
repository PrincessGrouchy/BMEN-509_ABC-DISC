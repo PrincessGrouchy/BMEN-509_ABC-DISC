{
 "cells": [
  {
   "cell_type": "markdown",
   "metadata": {},
   "source": [
    "# BMEN 509 Project ABC-DISC"
   ]
  },
  {
   "cell_type": "markdown",
   "metadata": {},
   "source": [
    "Details/Information\n"
   ]
  },
  {
   "cell_type": "markdown",
   "metadata": {},
   "source": [
    "https://www.geeksforgeeks.org/python-blood-cell-identification-using-image-processing/"
   ]
  },
  {
   "cell_type": "code",
   "execution_count": null,
   "metadata": {},
   "outputs": [],
   "source": [
    "# Library Imports\n",
    "import csv"
   ]
  },
  {
   "cell_type": "code",
   "execution_count": null,
   "metadata": {
    "scrolled": false,
    "tags": []
   },
   "outputs": [],
   "source": [
    "def annotations_read():\n",
    "    annotationsdata_directory = os.path.join('.', 'Data')\n",
    "    #Sample = 'sample.png' \n",
    "    annotations = 'annotations.csv'\n",
    "    annotationsname= os.path.join(annotationsdata_directory, annotations)\n",
    "    totalRBC = {}\n",
    "    totalWBC = {}\n",
    "    with open(annotationsname, newline='') as csvfile:\n",
    "        csvreader = csv.reader(csvfile, dialect='excel')\n",
    "        for row in csvreader:\n",
    "            # print(row)\n",
    "            image = row[0]\n",
    "            cellType = row[5]\n",
    "            # print(image, cellType)\n",
    "            if cellType == \"rbc\":\n",
    "                oldCountRBC = totalRBC.get(image)\n",
    "                if oldCountRBC == None:\n",
    "                    totalRBC[image] = 1\n",
    "                else:\n",
    "                    totalRBC[image] = oldCountRBC + 1 \n",
    "            elif cellType == \"wbc\":\n",
    "                oldCountWBC = totalWBC.get(image)\n",
    "                if oldCountWBC == None:\n",
    "                    totalWBC[image] = 1\n",
    "                else:\n",
    "                    totalWBC[image] = oldCountWBC + 1 \n",
    "    return totalRBC, totalWBC\n",
    "x, y = annotations_read()\n",
    "print(x)\n",
    "print(y)"
   ]
  },
  {
   "cell_type": "code",
   "execution_count": null,
   "metadata": {},
   "outputs": [],
   "source": []
  }
 ],
 "metadata": {
  "kernelspec": {
   "name": "python390jvsc74a57bd063fd5069d213b44bf678585dea6b12cceca9941eaf7f819626cde1f2670de90d",
   "display_name": "Python 3.9.0 64-bit"
  },
  "language_info": {
   "codemirror_mode": {
    "name": "ipython",
    "version": 3
   },
   "file_extension": ".py",
   "mimetype": "text/x-python",
   "name": "python",
   "nbconvert_exporter": "python",
   "pygments_lexer": "ipython3",
   "version": "3.9.0-final"
  },
  "metadata": {
   "interpreter": {
    "hash": "63fd5069d213b44bf678585dea6b12cceca9941eaf7f819626cde1f2670de90d"
   }
  }
 },
 "nbformat": 4,
 "nbformat_minor": 2
}