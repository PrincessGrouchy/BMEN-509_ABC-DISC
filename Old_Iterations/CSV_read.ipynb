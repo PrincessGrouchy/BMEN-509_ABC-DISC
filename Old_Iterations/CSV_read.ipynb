{
 "cells": [
  {
   "cell_type": "markdown",
   "metadata": {},
   "source": [
    "# BMEN 509 Project ABC-DISC"
   ]
  },
  {
   "cell_type": "markdown",
   "metadata": {},
   "source": [
    "Details/Information\n"
   ]
  },
  {
   "cell_type": "markdown",
   "metadata": {},
   "source": [
    "https://www.geeksforgeeks.org/python-blood-cell-identification-using-image-processing/"
   ]
  },
  {
   "cell_type": "code",
   "execution_count": 25,
   "metadata": {},
   "outputs": [],
   "source": [
    "# Library Imports\n",
    "import csv"
   ]
  },
  {
   "cell_type": "code",
   "execution_count": 26,
   "metadata": {
    "scrolled": false,
    "tags": []
   },
   "outputs": [
    {
     "output_type": "stream",
     "name": "stdout",
     "text": [
      "1 19 1 18\n2 20 1 19\n3 None None None\n4 18 1 17\n5 None None None\n6 None None None\n7 26 1 25\n8 27 1 26\n9 None None None\n10 20 None 20\n11 27 None 27\n12 22 1 21\n13 None None None\n14 29 1 28\n15 None None None\n16 None None None\n17 25 1 24\n18 25 1 24\n19 27 1 26\n20 30 1 29\n21 23 1 22\n22 22 1 21\n23 23 1 22\n24 23 1 22\n25 24 1 23\n26 None None None\n27 None None None\n28 22 1 21\n29 None None None\n30 18 1 17\n31 18 1 17\n32 23 1 22\n33 22 1 21\n34 27 1 26\n35 25 1 24\n36 27 1 26\n37 30 1 29\n38 23 1 22\n39 25 1 24\n40 None None None\n41 None None None\n42 None None None\n43 24 1 23\n44 24 1 23\n45 26 1 25\n46 25 1 24\n47 None None None\n48 16 1 15\n49 26 1 25\n50 20 1 19\n51 26 1 25\n52 22 1 21\n53 20 1 19\n54 18 1 17\n55 20 1 19\n56 None None None\n57 None None None\n58 None None None\n59 22 1 21\n60 19 1 18\n61 20 1 19\n62 20 1 19\n63 None None None\n64 26 1 25\n65 18 1 17\n66 21 1 20\n67 None None None\n68 24 1 23\n69 33 1 32\n70 26 1 25\n71 25 1 24\n72 28 1 27\n73 22 1 21\n74 28 1 27\n75 22 1 21\n76 26 1 25\n77 25 1 24\n78 27 1 26\n79 21 1 20\n80 22 1 21\n81 15 1 14\n82 16 1 15\n83 11 1 10\n84 11 1 10\n85 12 1 11\n86 20 1 19\n87 27 1 26\n88 26 1 25\n89 24 1 23\n90 23 1 22\n91 25 1 24\n92 26 1 25\n93 22 1 21\n94 30 1 29\n95 26 2 24\n96 27 1 26\n97 32 1 31\n98 None None None\n99 28 1 27\n100 23 2 21\n101 23 1 22\n102 23 1 22\n103 24 None 24\n104 19 2 17\n105 18 1 17\n106 22 1 21\n107 19 1 18\n108 13 1 12\n109 21 1 20\n110 26 2 24\n111 23 1 22\n112 21 1 20\n113 25 1 24\n114 25 2 23\n115 31 1 30\n116 32 1 31\n117 26 2 24\n118 33 1 32\n119 28 1 27\n120 32 1 31\n"
     ]
    }
   ],
   "source": [
    "def annotations_read():\n",
    "    annotationsdata_directory = os.path.join('.', 'Data')\n",
    "    #Sample = 'sample.png' \n",
    "    annotations = 'annotations.csv'\n",
    "    annotationsname= os.path.join(annotationsdata_directory, annotations)\n",
    "    totalRBC = {}\n",
    "    totalWBC = {}\n",
    "    totalCells = {}\n",
    "    with open(annotationsname, newline='') as csvfile:\n",
    "        csvreader = csv.reader(csvfile, dialect='excel')\n",
    "        for row in csvreader:\n",
    "            # print(row)\n",
    "            image = row[0]\n",
    "            if image == \"image\":\n",
    "                continue\n",
    "            imgNum = int(''.join(filter(str.isdigit, image)))\n",
    "            cellType = row[5]\n",
    "            # print(image, cellType)\n",
    "            if cellType == \"rbc\":\n",
    "                oldCountRBC = totalRBC.get(imgNum)\n",
    "                if oldCountRBC == None:\n",
    "                    totalRBC[imgNum] = 1\n",
    "                else:\n",
    "                    totalRBC[imgNum] = oldCountRBC + 1 \n",
    "            elif cellType == \"wbc\":\n",
    "                oldCountWBC = totalWBC.get(imgNum)\n",
    "                if oldCountWBC == None:\n",
    "                    totalWBC[imgNum] = 1\n",
    "                else:\n",
    "                    totalWBC[imgNum] = oldCountWBC + 1 \n",
    "            \n",
    "            oldCountCells = totalCells.get(imgNum)\n",
    "            if oldCountCells == None:\n",
    "                totalCells[imgNum] = 1\n",
    "            else:\n",
    "                totalCells[imgNum] = oldCountCells + 1 \n",
    "    return totalCells, totalWBC, totalRBC"
   ]
  },
  {
   "cell_type": "code",
   "execution_count": null,
   "metadata": {},
   "outputs": [],
   "source": [
    "def annotationsToArray():\n",
    "    Arr = Stat = [[0 for x in range(4)] for y in range(len(files))]\n",
    "    x, y, z = annotations_read()\n",
    "    annotationsdata_directory = os.path.join('.', 'Data')\n",
    "    for i in range(120):\n",
    "        print(i+1, x.get(i+1), y.get(i+1), z.get(i+1))"
   ]
  }
 ],
 "metadata": {
  "kernelspec": {
   "name": "python390jvsc74a57bd063fd5069d213b44bf678585dea6b12cceca9941eaf7f819626cde1f2670de90d",
   "display_name": "Python 3.9.0 64-bit"
  },
  "language_info": {
   "codemirror_mode": {
    "name": "ipython",
    "version": 3
   },
   "file_extension": ".py",
   "mimetype": "text/x-python",
   "name": "python",
   "nbconvert_exporter": "python",
   "pygments_lexer": "ipython3",
   "version": "3.9.0-final"
  },
  "metadata": {
   "interpreter": {
    "hash": "63fd5069d213b44bf678585dea6b12cceca9941eaf7f819626cde1f2670de90d"
   }
  }
 },
 "nbformat": 4,
 "nbformat_minor": 2
}